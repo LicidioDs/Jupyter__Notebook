{
 "cells": [
  {
   "cell_type": "markdown",
   "id": "20067761",
   "metadata": {},
   "source": [
    "\n",
    "# <font color='blue'>Análise de Dados com Linguagem Python</font>\n",
    "\n",
    "## <font color='blue'> Efeitos do Álcool no Estudo </font>\n"
   ]
  },
  {
   "cell_type": "code",
   "execution_count": 1,
   "id": "3090ec4f",
   "metadata": {},
   "outputs": [
    {
     "name": "stdout",
     "output_type": "stream",
     "text": [
      "A versão usada neste jupyter notebook e:  3.9.12\n"
     ]
    }
   ],
   "source": [
    "#Versão da Linguagem\n",
    "from platform import python_version\n",
    "print(\"A versão usada neste jupyter notebook e: \", python_version())"
   ]
  },
  {
   "cell_type": "code",
   "execution_count": 2,
   "id": "d7715b6b",
   "metadata": {},
   "outputs": [],
   "source": [
    "#import\n",
    "import pandas as pd\n",
    "import numpy as np\n",
    "import matplotlib.pyplot as plt\n",
    "import seaborn as sns"
   ]
  },
  {
   "cell_type": "markdown",
   "id": "3259d32f",
   "metadata": {},
   "source": [
    "### Importando os dados"
   ]
  },
  {
   "cell_type": "code",
   "execution_count": 3,
   "id": "0f970011",
   "metadata": {},
   "outputs": [],
   "source": [
    "dados_p = pd.read_csv(\"Portuguese.csv\")"
   ]
  },
  {
   "cell_type": "code",
   "execution_count": 4,
   "id": "5472c91d",
   "metadata": {},
   "outputs": [],
   "source": [
    "dados_m = pd.read_csv(\"Maths.csv\")"
   ]
  },
  {
   "cell_type": "markdown",
   "id": "e6e30dae",
   "metadata": {},
   "source": [
    "### Análise Exploratória"
   ]
  },
  {
   "cell_type": "code",
   "execution_count": 9,
   "id": "582e3971",
   "metadata": {},
   "outputs": [
    {
     "data": {
      "text/plain": [
       "(649, 33)"
      ]
     },
     "execution_count": 9,
     "metadata": {},
     "output_type": "execute_result"
    }
   ],
   "source": [
    "dados_p.shape"
   ]
  },
  {
   "cell_type": "code",
   "execution_count": 41,
   "id": "e79302d8",
   "metadata": {},
   "outputs": [
    {
     "data": {
      "text/plain": [
       "(395, 33)"
      ]
     },
     "execution_count": 41,
     "metadata": {},
     "output_type": "execute_result"
    }
   ],
   "source": [
    "dados_m.shape"
   ]
  },
  {
   "cell_type": "code",
   "execution_count": null,
   "id": "b3260d93",
   "metadata": {},
   "outputs": [],
   "source": []
  },
  {
   "cell_type": "markdown",
   "id": "5a9eb123",
   "metadata": {},
   "source": [
    "### Total de Registros"
   ]
  },
  {
   "cell_type": "code",
   "execution_count": 40,
   "id": "22f2a013",
   "metadata": {},
   "outputs": [
    {
     "data": {
      "text/html": [
       "<div>\n",
       "<style scoped>\n",
       "    .dataframe tbody tr th:only-of-type {\n",
       "        vertical-align: middle;\n",
       "    }\n",
       "\n",
       "    .dataframe tbody tr th {\n",
       "        vertical-align: top;\n",
       "    }\n",
       "\n",
       "    .dataframe thead th {\n",
       "        text-align: right;\n",
       "    }\n",
       "</style>\n",
       "<table border=\"1\" class=\"dataframe\">\n",
       "  <thead>\n",
       "    <tr style=\"text-align: right;\">\n",
       "      <th></th>\n",
       "      <th>Arquivo</th>\n",
       "      <th>Total de Registros</th>\n",
       "    </tr>\n",
       "  </thead>\n",
       "  <tbody>\n",
       "    <tr>\n",
       "      <th>0</th>\n",
       "      <td>dados_p</td>\n",
       "      <td>649</td>\n",
       "    </tr>\n",
       "    <tr>\n",
       "      <th>1</th>\n",
       "      <td>dados_m</td>\n",
       "      <td>649</td>\n",
       "    </tr>\n",
       "  </tbody>\n",
       "</table>\n",
       "</div>"
      ],
      "text/plain": [
       "   Arquivo Total de Registros\n",
       "0  dados_p                649\n",
       "1  dados_m                649"
      ]
     },
     "execution_count": 40,
     "metadata": {},
     "output_type": "execute_result"
    }
   ],
   "source": [
    "count_array = np.array([['dados_p', len(dados_p)],\n",
    "                        ['dados_m', len(dados_p)],\n",
    "                        ])\n",
    "count_record = pd.DataFrame(count_array, columns = ['Arquivo', 'Total de Registros'])\n",
    "count_record"
   ]
  },
  {
   "cell_type": "code",
   "execution_count": null,
   "id": "05b3eec8",
   "metadata": {},
   "outputs": [],
   "source": []
  }
 ],
 "metadata": {
  "kernelspec": {
   "display_name": "Python 3 (ipykernel)",
   "language": "python",
   "name": "python3"
  },
  "language_info": {
   "codemirror_mode": {
    "name": "ipython",
    "version": 3
   },
   "file_extension": ".py",
   "mimetype": "text/x-python",
   "name": "python",
   "nbconvert_exporter": "python",
   "pygments_lexer": "ipython3",
   "version": "3.9.12"
  }
 },
 "nbformat": 4,
 "nbformat_minor": 5
}
